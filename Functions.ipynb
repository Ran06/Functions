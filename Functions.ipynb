{
 "cells": [
  {
   "cell_type": "code",
   "execution_count": 20,
   "id": "3eb3bd76",
   "metadata": {},
   "outputs": [
    {
     "name": "stdout",
     "output_type": "stream",
     "text": [
      "35\n"
     ]
    }
   ],
   "source": [
    "#Question 1\n",
    "def m(a, b, c) : \n",
    "    if a > b and a > c :\n",
    "        return a\n",
    "    elif b > a and b > c : \n",
    "        return b\n",
    "    else :\n",
    "        return c\n",
    "print(m(20, 35, 19))"
   ]
  },
  {
   "cell_type": "code",
   "execution_count": 23,
   "id": "f59c584f",
   "metadata": {},
   "outputs": [
    {
     "data": {
      "text/plain": [
       "(50, 30)"
      ]
     },
     "execution_count": 23,
     "metadata": {},
     "output_type": "execute_result"
    }
   ],
   "source": [
    "#Question 2\n",
    "calculation = lambda a, b : (a+b, a-b)\n",
    "calculation(40, 10)"
   ]
  },
  {
   "cell_type": "code",
   "execution_count": 27,
   "id": "06c7ea42",
   "metadata": {},
   "outputs": [
    {
     "data": {
      "text/plain": [
       "(22, 24)"
      ]
     },
     "execution_count": 27,
     "metadata": {},
     "output_type": "execute_result"
    }
   ],
   "source": [
    "#Question 3\n",
    "def somme(L) : \n",
    "    s = 0 \n",
    "    for e in L :\n",
    "        s = s + e \n",
    "    return s \n",
    "\n",
    "def multiplication(L) :\n",
    "    s = 1 \n",
    "    for e in L :\n",
    "        s = s * e \n",
    "    return s \n",
    "\n",
    "def ex3(L) : \n",
    "    L_pair = [L[i] for i in range(len(L)) if i % 2 == 0]\n",
    "    L_impair = [L[i] for i in range(len(L)) if i % 2 != 0]\n",
    "    return (somme(L_pair), multiplication(L_impair))\n",
    "\n",
    "L = [5, 6, 9, 1, 8, 4]\n",
    "ex3(L)"
   ]
  },
  {
   "cell_type": "code",
   "execution_count": 1,
   "id": "b2cc7cec",
   "metadata": {},
   "outputs": [
    {
     "name": "stdout",
     "output_type": "stream",
     "text": [
      "green-red-yellow-black-white\n",
      "black-green-red-white-yellow\n"
     ]
    }
   ],
   "source": [
    "#Question 4\n",
    "items = [n for n in input().split(\"-\")]\n",
    "items.sort()\n",
    "print(\"-\".join(items))"
   ]
  },
  {
   "cell_type": "code",
   "execution_count": null,
   "id": "db334adf",
   "metadata": {},
   "outputs": [],
   "source": [
    "#Question 5 (Bonus)\n",
    "import math \n",
    "C = 50\n",
    "H = 30\n",
    "D = [n for n in int(input()).split(\",\")]\n",
    "def formula() :\n",
    "    Q = math.sqrt(2*C*D / H)\n",
    "    return formula()\n",
    "print(formula())"
   ]
  },
  {
   "cell_type": "code",
   "execution_count": null,
   "id": "e802ba65",
   "metadata": {},
   "outputs": [],
   "source": []
  }
 ],
 "metadata": {
  "kernelspec": {
   "display_name": "Python 3 (ipykernel)",
   "language": "python",
   "name": "python3"
  },
  "language_info": {
   "codemirror_mode": {
    "name": "ipython",
    "version": 3
   },
   "file_extension": ".py",
   "mimetype": "text/x-python",
   "name": "python",
   "nbconvert_exporter": "python",
   "pygments_lexer": "ipython3",
   "version": "3.9.12"
  }
 },
 "nbformat": 4,
 "nbformat_minor": 5
}
